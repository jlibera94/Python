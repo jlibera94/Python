{
 "cells": [
  {
   "cell_type": "markdown",
   "metadata": {},
   "source": [
    "# Testing lists\n",
    "\n",
    "1. First item\n",
    "    1. first A\n",
    "    2. first B\n",
    "2. Second\n",
    "3. Third\n",
    "\n",
    "# Bullet point testing\n",
    "\n",
    "- Something\n",
    "    - I was here\n",
    "    - I was there\n",
    "- Was\n",
    "- There\n",
    "\n",
    "# Sample exercise: Let's try this:\n",
    "\n",
    "1. Write function\n",
    "2. Get output of the function\n",
    "3. Print output on screen\n",
    "\n",
    "Example:\n",
    "\n",
    "```python\n",
    "x = f(y)\n",
    "print(x)\n",
    "```"
   ]
  },
  {
   "cell_type": "code",
   "execution_count": 1,
   "metadata": {},
   "outputs": [
    {
     "data": {
      "text/plain": [
       "7"
      ]
     },
     "execution_count": 1,
     "metadata": {},
     "output_type": "execute_result"
    }
   ],
   "source": [
    "3+4"
   ]
  },
  {
   "cell_type": "code",
   "execution_count": 3,
   "metadata": {},
   "outputs": [
    {
     "data": {
      "text/plain": [
       "'Hello, world'"
      ]
     },
     "execution_count": 3,
     "metadata": {},
     "output_type": "execute_result"
    }
   ],
   "source": [
    "#this is just a hello world function that's all\n",
    "\n",
    "def hello(name):\n",
    "    return f'Hello, {name}'\n",
    "\n",
    "hello('world')"
   ]
  },
  {
   "cell_type": "markdown",
   "metadata": {},
   "source": [
    "# Sample headline\n",
    "\n",
    "This is a simple sentence about nothing\n",
    "\n",
    "## This is a subhead with 2 hashes\n",
    "This line does not have any hashes dont worry\n",
    "\n",
    "More examples:\n",
    "\n",
    "*Italic uses 1 star at each end*\n",
    "\n",
    "**Bold text uses two**\n"
   ]
  },
  {
   "cell_type": "markdown",
   "metadata": {},
   "source": [
    "# References \n",
    "\n",
    "Turing test was first presented in 1950. More details in this [documentation](https://en.wikipedia.org/wiki/Turing_test)\n",
    "\n",
    "![Python logo](https://www.python.org/static/community_logos/python-logo-master-v3-TM-flattened.png)"
   ]
  },
  {
   "cell_type": "markdown",
   "metadata": {},
   "source": [
    "If anything google markdown guide for jupyter notebook or visit this [link](https://www.markdownguide.org/basic-syntax/) for more details"
   ]
  },
  {
   "cell_type": "code",
   "execution_count": null,
   "metadata": {},
   "outputs": [],
   "source": []
  }
 ],
 "metadata": {
  "kernelspec": {
   "display_name": "Python 3",
   "language": "python",
   "name": "python3"
  },
  "language_info": {
   "codemirror_mode": {
    "name": "ipython",
    "version": 3
   },
   "file_extension": ".py",
   "mimetype": "text/x-python",
   "name": "python",
   "nbconvert_exporter": "python",
   "pygments_lexer": "ipython3",
   "version": "3.7.4"
  }
 },
 "nbformat": 4,
 "nbformat_minor": 2
}
